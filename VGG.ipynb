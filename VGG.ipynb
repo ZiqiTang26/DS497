{
 "cells": [
  {
   "cell_type": "code",
   "execution_count": 1,
   "metadata": {},
   "outputs": [
    {
     "name": "stderr",
     "output_type": "stream",
     "text": [
      "Using TensorFlow backend.\n"
     ]
    }
   ],
   "source": [
    "from keras.layers import Conv2D, MaxPooling2D, AveragePooling2D, ZeroPadding2D\n",
    "from keras.layers.convolutional import Conv2D, MaxPooling2D\n",
    "from keras.layers import Flatten, Dense, Dropout,BatchNormalization\n",
    "from keras.layers import Input, concatenate\n",
    "from keras.models import Sequential\n",
    "from keras.preprocessing.image import img_to_array\n",
    "from keras.optimizers import SGD, Adam\n",
    "from keras.applications.vgg16 import VGG16\n",
    "from keras.models import Model,load_model\n",
    "from keras.preprocessing.image import ImageDataGenerator\n",
    "from keras.utils import plot_model,np_utils\n",
    "from keras import regularizers\n",
    "import keras.metrics as metric\n",
    "from keras import backend as K\n",
    "from keras.models import Sequential\n",
    "from keras.layers.normalization import BatchNormalization\n",
    "from keras.layers.convolutional import Conv2D\n",
    "from keras.layers.convolutional import MaxPooling2D\n",
    "from keras.layers.core import Activation\n",
    "from keras.layers.core import Flatten\n",
    "from keras.layers.core import Dropout\n",
    "from keras.layers.core import Dense\n",
    "from keras import backend as K\n",
    "from sklearn.preprocessing import OneHotEncoder, LabelBinarizer\n",
    "from sklearn.model_selection import train_test_split\n",
    "import matplotlib.pyplot as plt\n",
    "import matplotlib.image as mpimg\n",
    "\n",
    "import cv2\n",
    "import os\n",
    "import pickle\n",
    "import numpy as np\n",
    "from PIL import Image as PImage\n",
    "import gc"
   ]
  },
  {
   "cell_type": "code",
   "execution_count": 2,
   "metadata": {},
   "outputs": [],
   "source": [
    "'''\n",
    "Define a function to input all images from all subfolder in given path\n",
    "Ex. Path: img    subpaths:['goku', 'luffy'...]\n",
    "Input values: img path, imgsize(as a list), such as [224,224]\n",
    "return 2 lists\n",
    "\n",
    "'''\n",
    "def impt_img(path, img_size):\n",
    "    images = []\n",
    "    labels = []\n",
    "    for subpaths in os.listdir(path):\n",
    "        for i in os.listdir(path + '/' + subpaths):\n",
    "            img = cv2.imread(os.path.join(path, subpaths, i))\n",
    "            img1 = cv2.resize(img, (img_size[0], img_size[1]))\n",
    "            img2 = np.array(img1)\n",
    "            images.append(img2)\n",
    "            #define labels\n",
    "            lbl = subpaths\n",
    "            labels.append(lbl)\n",
    "    return images,labels"
   ]
  },
  {
   "cell_type": "code",
   "execution_count": 3,
   "metadata": {},
   "outputs": [],
   "source": [
    "img, labels = impt_img(r'img', [224, 224])"
   ]
  },
  {
   "cell_type": "code",
   "execution_count": 4,
   "metadata": {},
   "outputs": [
    {
     "data": {
      "text/plain": [
       "'goku'"
      ]
     },
     "execution_count": 4,
     "metadata": {},
     "output_type": "execute_result"
    }
   ],
   "source": [
    "labels[2]"
   ]
  },
  {
   "cell_type": "code",
   "execution_count": 5,
   "metadata": {},
   "outputs": [
    {
     "data": {
      "text/plain": [
       "(4413, 224, 224, 3)"
      ]
     },
     "execution_count": 5,
     "metadata": {},
     "output_type": "execute_result"
    }
   ],
   "source": [
    "'''\n",
    "Convert lists to np.array for NN\n",
    "'''\n",
    "img = np.array(img)\n",
    "labels = np.array(labels)\n",
    "img.shape"
   ]
  },
  {
   "cell_type": "code",
   "execution_count": 6,
   "metadata": {},
   "outputs": [
    {
     "data": {
      "text/plain": [
       "array([0, 0, 1, 0, 0, 0, 0, 0, 0, 0, 0])"
      ]
     },
     "execution_count": 6,
     "metadata": {},
     "output_type": "execute_result"
    }
   ],
   "source": [
    "'''\n",
    "Use One Hot Encoder to convert string labels to matrices\n",
    "'''\n",
    "ohe = LabelBinarizer()\n",
    "labels1 = ohe.fit_transform(labels)\n",
    "labels1[1]"
   ]
  },
  {
   "cell_type": "code",
   "execution_count": 7,
   "metadata": {},
   "outputs": [
    {
     "data": {
      "text/plain": [
       "(3530, 11)"
      ]
     },
     "execution_count": 7,
     "metadata": {},
     "output_type": "execute_result"
    }
   ],
   "source": [
    "'''\n",
    "Split train and test sets\n",
    "'''\n",
    "X_train, X_test, y_train, y_test = train_test_split(img, labels1, test_size=0.2, random_state=42)\n",
    "y_train.shape"
   ]
  },
  {
   "cell_type": "code",
   "execution_count": 8,
   "metadata": {},
   "outputs": [],
   "source": [
    "# '''\n",
    "# Initiate VGG net using built-in structure\n",
    "# input_shape is (224,224,3), RGB are kept\n",
    "# Output nodes number: 11, change to other numbers if the number of classes is different\n",
    "# '''\n",
    "# ishape=224\n",
    "# model_vgg = VGG16(include_top = False, weights = 'imagenet', input_shape = (ishape, ishape, 3)) \n",
    "\n",
    "# for layer in model_vgg.layers:\n",
    "#         layer.trainable = False\n",
    "# model = Flatten()(model_vgg.output) \n",
    "# model = Dense(4096, activation='relu', name='fc1')(model)\n",
    "# model = Dense(4096, activation='relu', name='fc2')(model)\n",
    "# model = Dropout(0.5)(model)\n",
    "\n",
    "# #Here, 11 can be changed\n",
    "# model = Dense(11, activation = 'softmax', name='prediction')(model) \n",
    "# model_vgg_mnist_pretrain = Model(model_vgg.input, model, name = 'vgg16_pretrain')\n",
    "# print(model_vgg_mnist_pretrain.summary())"
   ]
  },
  {
   "cell_type": "code",
   "execution_count": 9,
   "metadata": {},
   "outputs": [],
   "source": [
    "# sgd = SGD(lr = 0.05, decay = 1e-5) \n",
    "# model_vgg_mnist_pretrain.compile(loss = 'categorical_crossentropy', optimizer = sgd, metrics = ['accuracy'])\n",
    "\n",
    "# his = model_vgg_mnist_pretrain.fit(X_train, y_train, epochs = 10, batch_size = 64)\n",
    "# model_vgg_mnist_pretrain.save(\"tester.model\")\n",
    "\n",
    "# with open(\"lb.pcikle\", 'wb') as f:\n",
    "#     f.write(pickle.dumps(ohe))\n",
    "\n",
    "# plt.plot(his.history['acc'], 'r', his.history['loss'], 'b')\n",
    "# plt.xlabel('Epochs')\n",
    "# plt.ylabel('Accuracy')\n",
    "# plt.show()"
   ]
  },
  {
   "cell_type": "code",
   "execution_count": null,
   "metadata": {},
   "outputs": [],
   "source": [
    "'''\n",
    "VGG model constructed by Karan Jaisingh\n",
    "https://github.com/kjaisingh/pokemon-classifier/blob/master/pyimagesearch/smallervggnet.py\n",
    "'''"
   ]
  },
  {
   "cell_type": "code",
   "execution_count": 10,
   "metadata": {},
   "outputs": [],
   "source": [
    "class SmallerVGGNet:\n",
    "    @staticmethod\n",
    "    def build(width, height, depth, classes):\n",
    "        # initialize the model along with the input shape to be\n",
    "        # \"channels last\" and the channels dimension itself\n",
    "        model = Sequential()\n",
    "        inputShape = (height, width, depth)\n",
    "        chanDim = -1\n",
    "        if K.image_data_format() == \"channels_first\":\n",
    "            inputShape = (depth, height, width)\n",
    "            chanDim = 1\n",
    "        model.add(Conv2D(32, (3, 3), padding=\"same\",\n",
    "            input_shape=inputShape))\n",
    "        model.add(Activation(\"relu\"))\n",
    "        model.add(BatchNormalization(axis=chanDim))\n",
    "        model.add(MaxPooling2D(pool_size=(3, 3)))\n",
    "        model.add(Dropout(0.25))\n",
    "        # (CONV => RELU) * 2 => POOL\n",
    "        model.add(Conv2D(64, (3, 3), padding=\"same\",\n",
    "          input_shape=inputShape))\n",
    "        model.add(Activation(\"relu\"))\n",
    "        model.add(BatchNormalization(axis=chanDim))\n",
    "        model.add(Conv2D(64, (3, 3), padding=\"same\",\n",
    "           input_shape=inputShape))\n",
    "        model.add(Activation(\"relu\"))\n",
    "        model.add(BatchNormalization(axis=chanDim))\n",
    "        model.add(MaxPooling2D(pool_size=(2, 2)))\n",
    "        model.add(Dropout(0.25))\n",
    "        model.add(Conv2D(128, (3, 3), padding=\"same\",\n",
    "           input_shape=inputShape))\n",
    "        model.add(Activation(\"relu\"))\n",
    "        model.add(BatchNormalization(axis=chanDim))\n",
    "        model.add(Conv2D(128, (3, 3), padding=\"same\",\n",
    "           input_shape=inputShape))\n",
    "        model.add(Activation(\"relu\"))\n",
    "        model.add(BatchNormalization(axis=chanDim))\n",
    "        model.add(MaxPooling2D(pool_size=(2, 2)))\n",
    "        model.add(Dropout(0.25))\n",
    "        model.add(Flatten())\n",
    "        model.add(Dense(1024))\n",
    "        model.add(Activation(\"relu\"))\n",
    "        model.add(BatchNormalization())\n",
    "        model.add(Dropout(0.5))\n",
    " \n",
    "       # softmax classifier\n",
    "        model.add(Dense(classes))\n",
    "        model.add(Activation(\"softmax\"))\n",
    " \n",
    "       # return the constructed network architecture\n",
    "        return model"
   ]
  },
  {
   "cell_type": "code",
   "execution_count": 11,
   "metadata": {},
   "outputs": [],
   "source": [
    "EPOCHS = 50\n",
    "INIT_LR = 1e-3\n",
    "BS =32\n",
    "IMAGE_DIMS = (224, 224, 3)\n",
    "aug = ImageDataGenerator(rotation_range=25, width_shift_range=0.3,\\\n",
    "                         height_shift_range=0.1, shear_range=0.2, zoom_range=0.2,\\\n",
    "                         horizontal_flip=True, fill_mode='nearest')"
   ]
  },
  {
   "cell_type": "code",
   "execution_count": 12,
   "metadata": {},
   "outputs": [
    {
     "name": "stdout",
     "output_type": "stream",
     "text": [
      "[INFO] compiling model...\n",
      "WARNING:tensorflow:From c:\\users\\a5730\\appdata\\local\\programs\\python\\python37\\lib\\site-packages\\tensorflow\\python\\framework\\op_def_library.py:263: colocate_with (from tensorflow.python.framework.ops) is deprecated and will be removed in a future version.\n",
      "Instructions for updating:\n",
      "Colocations handled automatically by placer.\n",
      "WARNING:tensorflow:From c:\\users\\a5730\\appdata\\local\\programs\\python\\python37\\lib\\site-packages\\keras\\backend\\tensorflow_backend.py:3445: calling dropout (from tensorflow.python.ops.nn_ops) with keep_prob is deprecated and will be removed in a future version.\n",
      "Instructions for updating:\n",
      "Please use `rate` instead of `keep_prob`. Rate should be set to `rate = 1 - keep_prob`.\n",
      "[INFO] training network...\n",
      "WARNING:tensorflow:From c:\\users\\a5730\\appdata\\local\\programs\\python\\python37\\lib\\site-packages\\tensorflow\\python\\ops\\math_ops.py:3066: to_int32 (from tensorflow.python.ops.math_ops) is deprecated and will be removed in a future version.\n",
      "Instructions for updating:\n",
      "Use tf.cast instead.\n",
      "Epoch 1/50\n",
      "110/110 [==============================] - 854s 8s/step - loss: 1.2585 - acc: 0.5852 - val_loss: 1.6458 - val_acc: 0.5289\n",
      "Epoch 2/50\n",
      "110/110 [==============================] - 810s 7s/step - loss: 1.1253 - acc: 0.6099 - val_loss: 1.9229 - val_acc: 0.4915\n",
      "Epoch 3/50\n",
      "110/110 [==============================] - 791s 7s/step - loss: 1.1253 - acc: 0.6276 - val_loss: 1.5550 - val_acc: 0.5629\n",
      "Epoch 4/50\n",
      "110/110 [==============================] - 780s 7s/step - loss: 1.0676 - acc: 0.6468 - val_loss: 2.7085 - val_acc: 0.4417\n",
      "Epoch 5/50\n",
      "110/110 [==============================] - 689s 6s/step - loss: 1.0579 - acc: 0.6487 - val_loss: 1.3594 - val_acc: 0.5719\n",
      "Epoch 6/50\n",
      "110/110 [==============================] - 1269s 12s/step - loss: 1.0087 - acc: 0.6551 - val_loss: 1.4888 - val_acc: 0.5776\n",
      "Epoch 7/50\n",
      "110/110 [==============================] - 738s 7s/step - loss: 0.9953 - acc: 0.6651 - val_loss: 1.1835 - val_acc: 0.6376\n",
      "Epoch 8/50\n",
      "110/110 [==============================] - 2634s 24s/step - loss: 0.9942 - acc: 0.6742 - val_loss: 1.8401 - val_acc: 0.5629\n",
      "Epoch 9/50\n",
      "110/110 [==============================] - 792s 7s/step - loss: 0.9128 - acc: 0.6879 - val_loss: 1.1017 - val_acc: 0.6693\n",
      "Epoch 10/50\n",
      "110/110 [==============================] - 685s 6s/step - loss: 0.9008 - acc: 0.6916 - val_loss: 1.7764 - val_acc: 0.5640\n",
      "Epoch 11/50\n",
      "110/110 [==============================] - 2006s 18s/step - loss: 0.8877 - acc: 0.6994 - val_loss: 2.0366 - val_acc: 0.5504\n",
      "Epoch 12/50\n",
      "110/110 [==============================] - 748s 7s/step - loss: 0.8390 - acc: 0.7043 - val_loss: 1.7015 - val_acc: 0.5300\n",
      "Epoch 13/50\n",
      "110/110 [==============================] - 693s 6s/step - loss: 0.8265 - acc: 0.7239 - val_loss: 1.2626 - val_acc: 0.6376\n",
      "Epoch 14/50\n",
      "110/110 [==============================] - 788s 7s/step - loss: 0.8024 - acc: 0.7353 - val_loss: 1.2373 - val_acc: 0.6557\n",
      "Epoch 15/50\n",
      "110/110 [==============================] - 692s 6s/step - loss: 0.7436 - acc: 0.7527 - val_loss: 1.7391 - val_acc: 0.5436\n",
      "Epoch 16/50\n",
      "110/110 [==============================] - 693s 6s/step - loss: 0.9996 - acc: 0.6711 - val_loss: 1.9401 - val_acc: 0.5198\n",
      "Epoch 17/50\n",
      "110/110 [==============================] - 686s 6s/step - loss: 0.8369 - acc: 0.7125 - val_loss: 1.3768 - val_acc: 0.6319\n",
      "Epoch 18/50\n",
      "110/110 [==============================] - 685s 6s/step - loss: 0.8098 - acc: 0.7273 - val_loss: 1.7359 - val_acc: 0.6002\n",
      "Epoch 19/50\n",
      "110/110 [==============================] - 686s 6s/step - loss: 0.7361 - acc: 0.7533 - val_loss: 1.2367 - val_acc: 0.6501\n",
      "Epoch 20/50\n",
      "110/110 [==============================] - 686s 6s/step - loss: 0.7200 - acc: 0.7556 - val_loss: 1.3438 - val_acc: 0.6149\n",
      "Epoch 21/50\n",
      "110/110 [==============================] - 684s 6s/step - loss: 0.7015 - acc: 0.7649 - val_loss: 1.1181 - val_acc: 0.6727\n",
      "Epoch 22/50\n",
      "110/110 [==============================] - 685s 6s/step - loss: 0.6774 - acc: 0.7652 - val_loss: 1.1188 - val_acc: 0.6829\n",
      "Epoch 23/50\n",
      "110/110 [==============================] - 686s 6s/step - loss: 0.7279 - acc: 0.7648 - val_loss: 0.9775 - val_acc: 0.6954\n",
      "Epoch 24/50\n",
      "110/110 [==============================] - 685s 6s/step - loss: 0.6582 - acc: 0.7698 - val_loss: 1.1853 - val_acc: 0.6727\n",
      "Epoch 25/50\n",
      "110/110 [==============================] - 686s 6s/step - loss: 0.6560 - acc: 0.7794 - val_loss: 1.1458 - val_acc: 0.6750\n",
      "Epoch 26/50\n",
      "110/110 [==============================] - 686s 6s/step - loss: 0.7099 - acc: 0.7572 - val_loss: 1.6338 - val_acc: 0.5674\n",
      "Epoch 27/50\n",
      "110/110 [==============================] - 685s 6s/step - loss: 0.6234 - acc: 0.7842 - val_loss: 1.1058 - val_acc: 0.6648\n",
      "Epoch 28/50\n",
      "110/110 [==============================] - 685s 6s/step - loss: 0.6314 - acc: 0.7757 - val_loss: 0.9922 - val_acc: 0.6942\n",
      "Epoch 29/50\n",
      "110/110 [==============================] - 686s 6s/step - loss: 0.6313 - acc: 0.7802 - val_loss: 1.5298 - val_acc: 0.6104\n",
      "Epoch 30/50\n",
      "110/110 [==============================] - 723s 7s/step - loss: 0.6040 - acc: 0.7943 - val_loss: 1.0453 - val_acc: 0.7157\n",
      "Epoch 31/50\n",
      "110/110 [==============================] - 766s 7s/step - loss: 0.5863 - acc: 0.7958 - val_loss: 1.1400 - val_acc: 0.6772\n",
      "Epoch 32/50\n",
      "110/110 [==============================] - 686s 6s/step - loss: 0.5819 - acc: 0.8004 - val_loss: 1.0878 - val_acc: 0.6625\n",
      "Epoch 33/50\n",
      "110/110 [==============================] - 704s 6s/step - loss: 0.5957 - acc: 0.8007 - val_loss: 1.1310 - val_acc: 0.6727\n",
      "Epoch 34/50\n",
      "110/110 [==============================] - 787s 7s/step - loss: 0.5435 - acc: 0.8124 - val_loss: 1.0444 - val_acc: 0.7055\n",
      "Epoch 35/50\n",
      "110/110 [==============================] - 784s 7s/step - loss: 0.5255 - acc: 0.8218 - val_loss: 0.9819 - val_acc: 0.7441\n",
      "Epoch 36/50\n",
      "110/110 [==============================] - 685s 6s/step - loss: 0.5599 - acc: 0.8156 - val_loss: 1.4882 - val_acc: 0.6048\n",
      "Epoch 37/50\n",
      "110/110 [==============================] - 685s 6s/step - loss: 0.6037 - acc: 0.7868 - val_loss: 1.1216 - val_acc: 0.6886\n",
      "Epoch 38/50\n",
      "110/110 [==============================] - 685s 6s/step - loss: 0.5479 - acc: 0.8162 - val_loss: 0.9974 - val_acc: 0.7123\n",
      "Epoch 39/50\n",
      "110/110 [==============================] - 687s 6s/step - loss: 0.5462 - acc: 0.8155 - val_loss: 1.0890 - val_acc: 0.6999\n",
      "Epoch 40/50\n",
      "110/110 [==============================] - 686s 6s/step - loss: 0.5535 - acc: 0.8081 - val_loss: 0.9944 - val_acc: 0.7237\n",
      "Epoch 41/50\n",
      "110/110 [==============================] - 686s 6s/step - loss: 0.5263 - acc: 0.8136 - val_loss: 0.9234 - val_acc: 0.7486\n",
      "Epoch 42/50\n",
      "110/110 [==============================] - 686s 6s/step - loss: 0.4864 - acc: 0.8269 - val_loss: 0.9988 - val_acc: 0.7214\n",
      "Epoch 43/50\n",
      "110/110 [==============================] - 756s 7s/step - loss: 0.5715 - acc: 0.8081 - val_loss: 1.3663 - val_acc: 0.6399\n",
      "Epoch 44/50\n",
      "110/110 [==============================] - 737s 7s/step - loss: 0.5608 - acc: 0.8081 - val_loss: 0.9549 - val_acc: 0.7225\n",
      "Epoch 45/50\n",
      "110/110 [==============================] - 687s 6s/step - loss: 0.4767 - acc: 0.8326 - val_loss: 1.2007 - val_acc: 0.6829\n",
      "Epoch 46/50\n",
      "110/110 [==============================] - 687s 6s/step - loss: 0.4659 - acc: 0.8325 - val_loss: 1.5501 - val_acc: 0.5798\n",
      "Epoch 47/50\n",
      "110/110 [==============================] - 687s 6s/step - loss: 0.5291 - acc: 0.8235 - val_loss: 1.2275 - val_acc: 0.6874\n",
      "Epoch 48/50\n",
      "110/110 [==============================] - 687s 6s/step - loss: 0.4999 - acc: 0.8256 - val_loss: 1.3163 - val_acc: 0.6863\n",
      "Epoch 49/50\n",
      "110/110 [==============================] - 687s 6s/step - loss: 0.5134 - acc: 0.8236 - val_loss: 1.0781 - val_acc: 0.7123\n",
      "Epoch 50/50\n",
      "110/110 [==============================] - 689s 6s/step - loss: 0.4746 - acc: 0.8346 - val_loss: 0.9795 - val_acc: 0.7157\n"
     ]
    }
   ],
   "source": [
    "# initialize the model\n",
    "print(\"[INFO] compiling model...\")\n",
    "model = SmallerVGGNet.build(width=IMAGE_DIMS[1], height=IMAGE_DIMS[0],\n",
    "    depth=IMAGE_DIMS[2], classes=len(ohe.classes_))\n",
    "opt = Adam(lr=INIT_LR, decay=INIT_LR / EPOCHS)\n",
    "model.compile(loss=\"categorical_crossentropy\", optimizer=opt,\n",
    "    metrics=[\"accuracy\"])\n",
    "model.load_weights('tester.model') \n",
    "# train the network\n",
    "print(\"[INFO] training network...\")\n",
    "H = model.fit_generator(\n",
    "    aug.flow(X_train, y_train, batch_size=BS),\n",
    "    validation_data=(X_test, y_test),\n",
    "    steps_per_epoch=len(X_train) // BS,\n",
    "    epochs=EPOCHS, verbose=1)\n",
    "\n",
    "model.save('tester2.model')"
   ]
  },
  {
   "cell_type": "code",
   "execution_count": 13,
   "metadata": {},
   "outputs": [
    {
     "name": "stdout",
     "output_type": "stream",
     "text": [
      "883/883 [==============================] - 36s 41ms/step\n"
     ]
    },
    {
     "data": {
      "text/plain": [
       "[0.9794656459306547, 0.7157417893544734]"
      ]
     },
     "execution_count": 13,
     "metadata": {},
     "output_type": "execute_result"
    }
   ],
   "source": [
    "score = model.evaluate(X_test, y_test,batch_size=2)\n",
    "score"
   ]
  },
  {
   "cell_type": "code",
   "execution_count": 14,
   "metadata": {},
   "outputs": [
    {
     "data": {
      "image/png": "[encoded data removed]",
      "text/plain": [
       "<Figure size 432x288 with 1 Axes>"
      ]
     },
     "metadata": {
      "needs_background": "light"
     },
     "output_type": "display_data"
    }
   ],
   "source": [
    "\n",
    "\n",
    "plt.plot(H.history['acc'], 'r', H.history['loss'], 'b')\n",
    "plt.xlabel('Epochs')\n",
    "plt.ylabel('Accuracy')\n",
    "plt.show()"
   ]
  },
  {
   "cell_type": "code",
   "execution_count": 16,
   "metadata": {},
   "outputs": [
    {
     "data": {
      "image/png": "[encoded data removed]",
      "text/plain": [
       "<Figure size 432x288 with 1 Axes>"
      ]
     },
     "metadata": {
      "needs_background": "light"
     },
     "output_type": "display_data"
    }
   ],
   "source": [
    "plt.plot(H.history['acc'], 'r', H.history['loss'], 'b')\n",
    "plt.xlabel('Epochs')\n",
    "plt.ylabel('Accuracy and loss')\n",
    "plt.title('The learning curve')\n",
    "plt.show()"
   ]
  },
  {
   "cell_type": "code",
   "execution_count": null,
   "metadata": {},
   "outputs": [],
   "source": []
  }
 ],
 "metadata": {
  "kernelspec": {
   "display_name": "Python 3",
   "language": "python",
   "name": "python3"
  },
  "language_info": {
   "codemirror_mode": {
    "name": "ipython",
    "version": 3
   },
   "file_extension": ".py",
   "mimetype": "text/x-python",
   "name": "python",
   "nbconvert_exporter": "python",
   "pygments_lexer": "ipython3",
   "version": "3.7.3"
  }
 },
 "nbformat": 4,
 "nbformat_minor": 2
}
